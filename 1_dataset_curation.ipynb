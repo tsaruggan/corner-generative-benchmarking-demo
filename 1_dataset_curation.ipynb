{
 "cells": [
  {
   "cell_type": "markdown",
   "id": "7802e23c-5d64-4bd2-b96f-71526c95ba43",
   "metadata": {},
   "source": [
    "# Dataset Curation\n",
    "\n",
    "For this demo, we download and aggregate the [Yelp Open Dataset](https://business.yelp.com/data/resources/open-dataset/) to get reviews for local cafes. We'll take a random sample that's large enough to be representative of the distribution."
   ]
  },
  {
   "cell_type": "code",
   "execution_count": null,
   "id": "13052ff3",
   "metadata": {},
   "outputs": [],
   "source": [
    "import pandas as pd  \n",
    "import numpy as np"
   ]
  },
  {
   "cell_type": "code",
   "execution_count": null,
   "id": "d64a717b",
   "metadata": {},
   "outputs": [],
   "source": [
    "business_chunk_iter = pd.read_json('data/yelp_academic_dataset_business.json', lines=True, chunksize=100000)\n",
    "df_business = pd.concat(business_chunk_iter)\n",
    "df_business.head()"
   ]
  },
  {
   "cell_type": "code",
   "execution_count": null,
   "id": "d67f384d",
   "metadata": {},
   "outputs": [],
   "source": [
    "review_chunk_iter = pd.read_json('data/yelp_academic_dataset_review.json', lines=True, chunksize=100000)\n",
    "df_review = pd.concat(review_chunk_iter)\n",
    "df_review.head()"
   ]
  },
  {
   "cell_type": "code",
   "execution_count": null,
   "id": "5919838a",
   "metadata": {},
   "outputs": [],
   "source": [
    "df_cafes = df_business[\n",
    "    df_business['categories'].str.contains('Cafes', case=False, na=False)\n",
    "]\n",
    "\n",
    "df_cafes = df_review[df_review['business_id'].isin(df_cafes['business_id'])] \\\n",
    "    .merge(df_cafes[['business_id', 'name', 'address', 'city', 'state']], on='business_id') \\\n",
    "    .rename(columns={'review_id': 'id'})\n",
    "\n",
    "df_cafes['address'] = df_cafes['address'] + ', ' + df_cafes['city'] + ', ' + df_cafes['state']\n",
    "df_cafes = df_cafes[['id', 'text', 'name', 'address']]\n",
    "\n",
    "df_cafes.head()"
   ]
  },
  {
   "cell_type": "code",
   "execution_count": null,
   "id": "5cdae0f6-5cfe-44d9-b115-1674cfd97976",
   "metadata": {},
   "outputs": [],
   "source": [
    "df_sampled = df_cafes.sample(n=1000, random_state=22)\n",
    "df_sampled.head()"
   ]
  },
  {
   "cell_type": "code",
   "execution_count": null,
   "id": "9dcdd507-e5df-4a09-8dd8-73597831e0bc",
   "metadata": {},
   "outputs": [],
   "source": [
    "df_sampled.to_json('data/cafes.json', orient='records', lines=True)"
   ]
  },
  {
   "cell_type": "code",
   "execution_count": null,
   "id": "f9c9d3e9-8715-4d9e-a965-52682da66b80",
   "metadata": {},
   "outputs": [],
   "source": []
  }
 ],
 "metadata": {
  "kernelspec": {
   "display_name": "Python 3 (ipykernel)",
   "language": "python",
   "name": "python3"
  },
  "language_info": {
   "codemirror_mode": {
    "name": "ipython",
    "version": 3
   },
   "file_extension": ".py",
   "mimetype": "text/x-python",
   "name": "python",
   "nbconvert_exporter": "python",
   "pygments_lexer": "ipython3",
   "version": "3.9.22"
  }
 },
 "nbformat": 4,
 "nbformat_minor": 5
}
