{
 "cells": [
  {
   "cell_type": "markdown",
   "id": "383bed7a-caac-43ae-96f0-08279951b99a",
   "metadata": {},
   "source": [
    "# Query Generation\n",
    "Generative benchmarking allows for a more tailored and representative approach to evaluation. First we filter documents using an aligned LLM judge and given context from the user to identify documents that are most relevant to the specified use case and contains sufficient information to generate queries from. Next, we generate queries using given context and example queries to steer generation"
   ]
  },
  {
   "cell_type": "markdown",
   "id": "295c5fec-ad79-4511-ac75-a98e92f8495d",
   "metadata": {},
   "source": [
    "## 1. Setup"
   ]
  },
  {
   "cell_type": "markdown",
   "id": "e675bc11-7337-43ab-b6fb-6173a7b3300b",
   "metadata": {},
   "source": [
    "### 1.1 Install & Import\n",
    "Install the necessary packages and import modules."
   ]
  },
  {
   "cell_type": "code",
   "execution_count": null,
   "id": "6fcf8d6e-9d80-4625-9397-25393cc66112",
   "metadata": {
    "scrolled": true
   },
   "outputs": [],
   "source": [
    "%pip install -r requirements.txt"
   ]
  },
  {
   "cell_type": "code",
   "execution_count": null,
   "id": "b0cc7ead-4c09-4754-8548-f7f24da0c062",
   "metadata": {
    "scrolled": true
   },
   "outputs": [],
   "source": [
    "%load_ext autoreload\n",
    "%autoreload 2\n",
    "\n",
    "__import__('pysqlite3')\n",
    "import sys\n",
    "sys.modules['sqlite3'] = sys.modules.pop('pysqlite3')\n",
    "import chromadb\n",
    "import pandas as pd\n",
    "import numpy as np\n",
    "import json\n",
    "import os\n",
    "from pathlib import Path\n",
    "from datetime import datetime\n",
    "from openai import OpenAI as OpenAIClient\n",
    "from functions.llm import *\n",
    "from functions.embed import *\n",
    "from functions.chroma import *\n",
    "from functions.evaluate import *\n",
    "from functions.visualize import *"
   ]
  },
  {
   "cell_type": "markdown",
   "id": "107d9859-b5c0-426e-a1b0-874247093ae4",
   "metadata": {},
   "source": [
    "### 1.2 Load Data\n",
    "Load our curated data of cafe reviews."
   ]
  },
  {
   "cell_type": "code",
   "execution_count": null,
   "id": "eb4a0ca3-658d-4ae8-89de-b3e8934f9fd9",
   "metadata": {},
   "outputs": [],
   "source": [
    "with open('data/cafes.json', 'r') as f:\n",
    "    df_cafes = [json.loads(line) for line in f]\n",
    "df_cafes = pd.DataFrame(df_cafes)\n",
    "df_cafes.head()"
   ]
  },
  {
   "cell_type": "code",
   "execution_count": null,
   "id": "85f72068-9753-4fdd-9e28-29ffea840569",
   "metadata": {
    "scrolled": true
   },
   "outputs": [],
   "source": [
    "ids = df_cafes['id'].tolist()\n",
    "documents = df_cafes['text'].tolist()\n",
    "metadatas = df_cafes[['name', 'address']].to_dict(orient='records')"
   ]
  },
  {
   "cell_type": "markdown",
   "id": "e5ca5d77-dde8-4d11-ad00-8fc31f2d8a8c",
   "metadata": {},
   "source": [
    "### 1.3 Set Clients\n",
    "Initialize clients for OpenAI and Chroma."
   ]
  },
  {
   "cell_type": "code",
   "execution_count": null,
   "id": "5a809746-922b-47b9-bb30-5891243712c1",
   "metadata": {},
   "outputs": [],
   "source": [
    "OPENAI_API_KEY = os.getenv(\"OPENAI_API_KEY\")\n",
    "openai_client = OpenAIClient(api_key=OPENAI_API_KEY)\n",
    "\n",
    "chroma_client = chromadb.Client()"
   ]
  },
  {
   "cell_type": "markdown",
   "id": "bc8acc27-3b33-4cb3-904f-a066b99d79b9",
   "metadata": {},
   "source": [
    "## 2. Create Chroma Collection"
   ]
  },
  {
   "cell_type": "markdown",
   "id": "30937a49-270a-4583-aa6e-3c82eb13ba1a",
   "metadata": {},
   "source": [
    "### 2.1 Embed Documents\n",
    "Generate embeddings for reviews using OpenAI's text-embedding-3-large model."
   ]
  },
  {
   "cell_type": "code",
   "execution_count": null,
   "id": "4be1355d-646c-4e73-b66a-1ef73dd3eaa1",
   "metadata": {},
   "outputs": [],
   "source": [
    "embeddings = openai_embed_in_batches(\n",
    "    openai_client=openai_client,\n",
    "    texts=documents,\n",
    "    model=\"text-embedding-3-large\",\n",
    ")"
   ]
  },
  {
   "cell_type": "markdown",
   "id": "2ce2f991-1916-4eb0-b12b-1043a9460c36",
   "metadata": {},
   "source": [
    "### 2.2 Create Collection & Add Documents\n",
    "Store reviews and metadata in Chroma's vector database (in batches)."
   ]
  },
  {
   "cell_type": "code",
   "execution_count": null,
   "id": "90b1e5b8-b0d4-47aa-b281-5576a6638849",
   "metadata": {},
   "outputs": [],
   "source": [
    "COLLECTION_NAME = \"cafes-openai-large\""
   ]
  },
  {
   "cell_type": "code",
   "execution_count": null,
   "id": "95a35676-2c2a-42e8-863c-0423fdb92299",
   "metadata": {
    "scrolled": true
   },
   "outputs": [],
   "source": [
    "collection = chroma_client.get_or_create_collection(\n",
    "    name=COLLECTION_NAME,\n",
    "    metadata={\"hnsw:space\": \"cosine\"}\n",
    ")\n",
    "\n",
    "collection_add_in_batches(\n",
    "    collection=collection,\n",
    "    ids=ids,\n",
    "    texts=documents,\n",
    "    metadatas=metadatas,\n",
    "    embeddings=embeddings,\n",
    ")"
   ]
  },
  {
   "cell_type": "code",
   "execution_count": null,
   "id": "30a284b9-67eb-4d9b-a685-acaf975abe83",
   "metadata": {},
   "outputs": [],
   "source": [
    "collection = chroma_client.get_collection(name=COLLECTION_NAME)\n",
    "corpus = get_collection_items(collection=collection)\n",
    "corpus_ids = [key for key in corpus.keys()]\n",
    "corpus_documents = [corpus[key]['document'] for key in corpus_ids]\n",
    "corpus_metadatas = [corpus[key]['metadata'] for key in corpus_ids]"
   ]
  },
  {
   "cell_type": "markdown",
   "id": "588897ce-6bb4-49cf-8ed0-f846f7453e93",
   "metadata": {},
   "source": [
    "## 3. Filter Documents for Quality"
   ]
  },
  {
   "cell_type": "markdown",
   "id": "1f70cd6b-3669-4b0a-b646-4b1942e17edc",
   "metadata": {},
   "source": [
    "### 3.1 Set Criteria\n",
    "Define criteria for a review that is useful to generate a query for."
   ]
  },
  {
   "cell_type": "code",
   "execution_count": null,
   "id": "3f1de58a-f02d-495a-adce-9b8b61788f05",
   "metadata": {},
   "outputs": [],
   "source": [
    "relevance = \"The review is relevant if it provides meaningful information about the cafe, including aspects like atmosphere, food, drinks, service quality, accessibility, decor, or overall experience.\"\n",
    "specificity = \"The review is specific if it provides detailed and precise information about the cafe, such as particular menu items, exact features, or clear descriptions of the environment, rather than vague or general statements.\"\n",
    "positivity = \"The review reflects a generally positive sentiment about the cafe, indicating a favorable experience.\"\n",
    "criteria = [relevance, specificity, positivity]\n",
    "criteria_labels = [\"relevance\", \"specificity\", \"positivity\"]"
   ]
  },
  {
   "cell_type": "markdown",
   "id": "defa100b-4a1d-471b-bdea-e872604d8e6d",
   "metadata": {},
   "source": [
    "### 3.2 Filter Documents\n",
    "Filter reviews prior to query generation to ensure that we avoid generating queries from irrelevant documents."
   ]
  },
  {
   "cell_type": "code",
   "execution_count": null,
   "id": "7ff29b1a-4a4b-4604-a4af-d592e29fcdfd",
   "metadata": {},
   "outputs": [],
   "source": [
    "filtered_document_ids = filter_documents(\n",
    "    client=openai_client,\n",
    "    model=\"gpt-4o-mini\",\n",
    "    documents=corpus_documents,\n",
    "    ids=corpus_ids,\n",
    "    criteria=criteria,\n",
    "    criteria_labels=criteria_labels\n",
    ")"
   ]
  },
  {
   "cell_type": "code",
   "execution_count": null,
   "id": "eb5dddd5-c812-4f52-aba3-f845d2ae509e",
   "metadata": {},
   "outputs": [],
   "source": [
    "passed_documents = [corpus[id]['document'] for id in filtered_document_ids]\n",
    "\n",
    "failed_document_ids = [id for id in corpus_ids if id not in filtered_document_ids]"
   ]
  },
  {
   "cell_type": "code",
   "execution_count": null,
   "id": "49b32b43-bd97-4753-8901-687def361178",
   "metadata": {},
   "outputs": [],
   "source": [
    "print(f\"Number of documents passed: {len(filtered_document_ids)}\")\n",
    "print(f\"Number of documents failed: {len(failed_document_ids)}\")\n",
    "print(\"-\"*80)\n",
    "print(\"Example of passed document:\")\n",
    "print(corpus[filtered_document_ids[0]]['document'])\n",
    "print(\"-\"*80)\n",
    "print(\"Example of failed document:\")\n",
    "print(corpus[failed_document_ids[0]]['document'])\n",
    "print(\"-\"*80)"
   ]
  },
  {
   "cell_type": "markdown",
   "id": "6ba0fb49-f1d6-482e-9b85-4b0e6b35f486",
   "metadata": {},
   "source": [
    "## 4. Generate Golden Dataset"
   ]
  },
  {
   "cell_type": "markdown",
   "id": "24d8ff10-c862-4231-98c4-1861ed6a7574",
   "metadata": {},
   "source": [
    "### 4.1 Create Custom Prompt & Generate Queries\n",
    "\n",
    "Provide context and example queries to generate a golden dataset of queries using OpenAI's gpt-4o."
   ]
  },
  {
   "cell_type": "code",
   "execution_count": null,
   "id": "149fce0c-6333-481f-840b-42b4036bbc84",
   "metadata": {},
   "outputs": [],
   "source": [
    "context = \"This is a search assistant for Corner, a review platform where users discover local cafes.\"\n",
    "example_queries = \"\"\"\n",
    "    quiet cafe for studying\n",
    "    romantic first date spot\n",
    "    best iced matcha latte\n",
    "    fresh fruit pastries\n",
    "    natural light with plants\n",
    "    vegan-friendly with oat milk\n",
    "    trendy cafe with artsy vibes\n",
    "    perfect espresso shot\n",
    "    brunch with large portions\n",
    "    \"\"\"\n",
    "\n",
    "golden_dataset = create_golden_dataset(\n",
    "    client=openai_client,\n",
    "    model=\"gpt-4o\",\n",
    "    documents=passed_documents,\n",
    "    ids=filtered_document_ids,\n",
    "    context=context,\n",
    "    example_queries=example_queries\n",
    ")\n",
    "\n",
    "golden_dataset.head()"
   ]
  },
  {
   "cell_type": "code",
   "execution_count": null,
   "id": "a295a69d-2a3f-480f-ad3d-2798f8beaa4c",
   "metadata": {},
   "outputs": [],
   "source": [
    "golden_dataset.to_json('queries/golden_dataset.json', orient='records', lines=True)"
   ]
  },
  {
   "cell_type": "code",
   "execution_count": null,
   "id": "1ea68d99-82d8-4bc9-b97d-a77f491afa94",
   "metadata": {},
   "outputs": [],
   "source": []
  }
 ],
 "metadata": {
  "kernelspec": {
   "display_name": "Python 3.9",
   "language": "python",
   "name": "python3.9"
  },
  "language_info": {
   "codemirror_mode": {
    "name": "ipython",
    "version": 3
   },
   "file_extension": ".py",
   "mimetype": "text/x-python",
   "name": "python",
   "nbconvert_exporter": "python",
   "pygments_lexer": "ipython3",
   "version": "3.9.22"
  }
 },
 "nbformat": 4,
 "nbformat_minor": 5
}
