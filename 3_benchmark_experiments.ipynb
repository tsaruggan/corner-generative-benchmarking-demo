{
 "cells": [
  {
   "cell_type": "markdown",
   "id": "db1103e6-069f-45fd-be71-8eb24b800edb",
   "metadata": {},
   "source": [
    "# Benchmark Experiments\n",
    " In practice, models are often evaluated using popular industry benchmarks to assess their performance in a reliable and standardized way. These benchmarks may too generic, overly clean, or already seen during training. We can use our golden dataset of generated queries to benchmark models in a way that is more representative of our real-world production use case."
   ]
  },
  {
   "cell_type": "markdown",
   "id": "6daebe42-ce3e-4efb-ad3d-064ff9b3b10f",
   "metadata": {},
   "source": [
    "## 1. Setup"
   ]
  },
  {
   "cell_type": "markdown",
   "id": "a40bcc45-8709-45ee-8fb6-148f3f40f000",
   "metadata": {},
   "source": [
    "### 1.1 Install & Import\n",
    "Install the necessary packages and import modules."
   ]
  },
  {
   "cell_type": "code",
   "execution_count": null,
   "id": "f9ef533c-ece3-4b4d-b182-6f1c54c135b3",
   "metadata": {
    "scrolled": true
   },
   "outputs": [],
   "source": [
    "%pip install -r requirements.txt"
   ]
  },
  {
   "cell_type": "code",
   "execution_count": null,
   "id": "fb1a6fcf-6dac-45a1-8e71-879088bdf14a",
   "metadata": {},
   "outputs": [],
   "source": [
    "%load_ext autoreload\n",
    "%autoreload 2\n",
    "\n",
    "__import__('pysqlite3')\n",
    "import sys\n",
    "sys.modules['sqlite3'] = sys.modules.pop('pysqlite3')\n",
    "import chromadb\n",
    "import pandas as pd\n",
    "import numpy as np\n",
    "import json\n",
    "import os\n",
    "from pathlib import Path\n",
    "from datetime import datetime\n",
    "from openai import OpenAI as OpenAIClient\n",
    "import voyageai\n",
    "from functions.llm import *\n",
    "from functions.embed import *\n",
    "from functions.chroma import *\n",
    "from functions.evaluate import *\n",
    "from functions.visualize import *\n",
    "from dotenv import load_dotenv\n",
    "load_dotenv()"
   ]
  },
  {
   "cell_type": "markdown",
   "id": "847b440c-95e6-4a95-b392-f176aaaee962",
   "metadata": {},
   "source": [
    "### 1.2 Load Data\n",
    "Load our curated data of cafe reviews as well as the golden dataset of generated queries."
   ]
  },
  {
   "cell_type": "code",
   "execution_count": null,
   "id": "74e97ce1-abe7-48ba-8d13-a23079e8c7da",
   "metadata": {},
   "outputs": [],
   "source": [
    "with open('data/cafes.json', 'r') as f:\n",
    "    df_cafes = [json.loads(line) for line in f]\n",
    "df_cafes = pd.DataFrame(df_cafes)\n",
    "df_cafes.head()"
   ]
  },
  {
   "cell_type": "code",
   "execution_count": null,
   "id": "d808905b-1a91-4dbf-b433-57f7dd6b2394",
   "metadata": {},
   "outputs": [],
   "source": [
    "with open('queries/golden_dataset.json', 'r') as f:\n",
    "    golden_dataset = [json.loads(line) for line in f]\n",
    "golden_dataset = pd.DataFrame(golden_dataset)\n",
    "golden_dataset.head()"
   ]
  },
  {
   "cell_type": "markdown",
   "id": "97904a3f-9118-4b1c-82df-b5b09127d9cf",
   "metadata": {},
   "source": [
    "## 2. Run Benchmark Experiments"
   ]
  },
  {
   "cell_type": "markdown",
   "id": "8623267d-18f4-4081-92a0-709418a4d47a",
   "metadata": {},
   "source": [
    "### 2.1 Infrastructure for Running Tests\n",
    "Setup methods to abstract repeated IO and Chroma operations related to running benchmark experiments."
   ]
  },
  {
   "cell_type": "code",
   "execution_count": null,
   "id": "83ceefe8-38ba-4299-82bc-64684ada7b21",
   "metadata": {},
   "outputs": [],
   "source": [
    "def extract_documents(df_data):\n",
    "    ids = df_data['id'].tolist()\n",
    "    documents = df_data['text'].tolist()\n",
    "    metadatas = df_data[['name', 'address']].to_dict(orient='records')\n",
    "    return ids, documents, metadatas\n",
    "\n",
    "def extract_queries(df_queries):\n",
    "    queries = golden_dataset['query'].tolist()\n",
    "    query_ids = golden_dataset['id'].tolist()\n",
    "    qrels = pd.DataFrame(\n",
    "        {\n",
    "            \"query-id\": query_ids,\n",
    "            \"corpus-id\": query_ids,\n",
    "            \"score\": 1\n",
    "        }\n",
    "    )\n",
    "    return queries, query_ids, qrels\n",
    "\n",
    "\n",
    "def format_query_embeddings_lookup(query_ids, queries, query_embeddings):\n",
    "    query_embeddings_lookup = {\n",
    "        id: {\n",
    "            \"text\": query,\n",
    "            \"embedding\": embedding\n",
    "        }\n",
    "        for id, query, embedding in zip(query_ids, queries, query_embeddings)\n",
    "    }\n",
    "    return query_embeddings_lookup\n",
    "\n",
    "def create_and_populate_chroma_collection(collection_name, ids, documents, metadatas, embeddings):\n",
    "    chroma_client = chromadb.Client()\n",
    "    collection = chroma_client.get_or_create_collection(\n",
    "        name=collection_name,\n",
    "        metadata={\"hnsw:space\": \"cosine\"}\n",
    "    )\n",
    "    \n",
    "    collection_add_in_batches(\n",
    "        collection=collection,\n",
    "        ids=ids,\n",
    "        texts=documents,\n",
    "        metadatas=metadatas,\n",
    "        embeddings=embeddings,\n",
    "    )\n",
    "    return collection\n",
    "\n",
    "def save_results(results, model):\n",
    "    results_dir = Path(\"results\")\n",
    "    timestamp = datetime.now().strftime(\"%Y-%m-%d--%H-%M-%S\")\n",
    "    results_to_save = {\n",
    "        \"model\": model,\n",
    "        \"results\": results\n",
    "    }\n",
    "\n",
    "    with open(os.path.join(results_dir, f'{model}-{timestamp}.json'), 'w') as f:\n",
    "        json.dump(results_to_save, f)\n",
    "\n",
    "def run_jina_experiment(api_key, df_data, df_queries):\n",
    "    model = \"jina-embeddings-v3\"\n",
    "\n",
    "    ids, documents, metadatas = extract_documents(df_data)\n",
    "\n",
    "    queries, query_ids, qrels = extract_queries(df_queries)\n",
    "\n",
    "    query_embeddings = jina_embed_in_batches(\n",
    "        JINA_API_KEY=api_key,\n",
    "        input_type=\"retrieval.query\",\n",
    "        texts=queries,\n",
    "    )\n",
    "    query_embeddings_lookup = format_query_embeddings_lookup(query_ids, queries, query_embeddings)\n",
    "\n",
    "    embeddings = jina_embed_in_batches(\n",
    "        JINA_API_KEY=api_key,\n",
    "        input_type=\"retrieval.passage\",\n",
    "        texts=documents,\n",
    "    )\n",
    "\n",
    "    collection_name = f'cafes-{model}'\n",
    "    collection = create_and_populate_chroma_collection(collection_name, ids, documents, metadatas, embeddings)\n",
    "\n",
    "    results = run_benchmark(\n",
    "        query_embeddings_lookup=query_embeddings_lookup,\n",
    "        collection=collection,\n",
    "        qrels=qrels\n",
    "    )\n",
    "    save_results(results, model)\n",
    "\n",
    "def run_voyage_experiment(api_key, df_data, df_queries):\n",
    "    model = \"voyage-3-large\"\n",
    "    client = voyageai.Client(api_key=api_key)\n",
    "    \n",
    "    ids, documents, metadatas = extract_documents(df_data)\n",
    "\n",
    "    queries, query_ids, qrels = extract_queries(df_queries)\n",
    "\n",
    "    query_embeddings = voyage_embed_in_batches(\n",
    "        voyage_client=client,\n",
    "        input_type=\"query\",\n",
    "        texts=queries,\n",
    "    )\n",
    "    query_embeddings_lookup = format_query_embeddings_lookup(query_ids, queries, query_embeddings)\n",
    "\n",
    "    embeddings = voyage_embed_in_batches(\n",
    "        voyage_client=client,\n",
    "        input_type=\"document\",\n",
    "        texts=documents,\n",
    "    )\n",
    "\n",
    "    collection_name = f'cafes-{model}'\n",
    "    collection = create_and_populate_chroma_collection(collection_name, ids, documents, metadatas, embeddings)\n",
    "\n",
    "    results = run_benchmark(\n",
    "        query_embeddings_lookup=query_embeddings_lookup,\n",
    "        collection=collection,\n",
    "        qrels=qrels\n",
    "    )\n",
    "    save_results(results, model)\n",
    "\n",
    "def run_openai_experiment(model, api_key, df_data, df_queries):\n",
    "    openai_client = OpenAIClient(api_key=api_key)\n",
    "\n",
    "    ids, documents, metadatas = extract_documents(df_data)\n",
    "\n",
    "    queries, query_ids, qrels = extract_queries(df_queries)\n",
    "\n",
    "    query_embeddings = openai_embed_in_batches(\n",
    "        openai_client=openai_client,\n",
    "        texts=queries,\n",
    "        model=model\n",
    "    )\n",
    "    query_embeddings_lookup = format_query_embeddings_lookup(query_ids, queries, query_embeddings)\n",
    "\n",
    "    embeddings = openai_embed_in_batches(\n",
    "        openai_client=openai_client,\n",
    "        texts=documents,\n",
    "        model=model,\n",
    "    )\n",
    "\n",
    "    collection_name = f'cafes-openai-{model}'\n",
    "    collection = create_and_populate_chroma_collection(collection_name, ids, documents, metadatas, embeddings)\n",
    "\n",
    "    results = run_benchmark(\n",
    "        query_embeddings_lookup=query_embeddings_lookup,\n",
    "        collection=collection,\n",
    "        qrels=qrels\n",
    "    )\n",
    "    save_results(results, model)\n",
    "    \n",
    "def run_openai_large_experiment(api_key, df_data, df_queries):\n",
    "    model=\"text-embedding-3-large\"\n",
    "    run_openai_experiment(model, api_key, df_data, df_queries)\n",
    "\n",
    "def run_openai_small_experiment(api_key, df_data, df_queries):\n",
    "    model=\"text-embedding-3-small\"\n",
    "    run_openai_experiment(model, api_key, df_data, df_queries)"
   ]
  },
  {
   "cell_type": "code",
   "execution_count": null,
   "id": "7b62bb26-49ac-42f2-86dd-0f67927437c8",
   "metadata": {},
   "outputs": [],
   "source": [
    "OPENAI_API_KEY = os.getenv(\"OPENAI_API_KEY\")\n",
    "JINA_API_KEY = os.getenv(\"JINA_API_KEY\")\n",
    "\n",
    "run_openai_small_experiment(OPENAI_API_KEY, df_cafes, golden_dataset)\n",
    "run_openai_large_experiment(OPENAI_API_KEY, df_cafes, golden_dataset)\n",
    "run_jina_experiment(JINA_API_KEY, df_cafes, golden_dataset)"
   ]
  },
  {
   "cell_type": "code",
   "execution_count": null,
   "id": "e26d1088-ada9-4b1f-bbc8-7714d94da74c",
   "metadata": {},
   "outputs": [],
   "source": [
    "\n"
   ]
  }
 ],
 "metadata": {
  "kernelspec": {
   "display_name": "Python 3.9",
   "language": "python",
   "name": "python3.9"
  },
  "language_info": {
   "codemirror_mode": {
    "name": "ipython",
    "version": 3
   },
   "file_extension": ".py",
   "mimetype": "text/x-python",
   "name": "python",
   "nbconvert_exporter": "python",
   "pygments_lexer": "ipython3",
   "version": "3.9.22"
  }
 },
 "nbformat": 4,
 "nbformat_minor": 5
}
